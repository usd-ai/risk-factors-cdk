{
 "cells": [
  {
   "cell_type": "code",
   "execution_count": 249,
   "metadata": {},
   "outputs": [],
   "source": [
    "import numpy as np\n",
    "import matplotlib.pyplot as plt\n",
    "import scipy.stats as stats\n",
    "from statsmodels.stats.outliers_influence import variance_inflation_factor\n",
    "import pandas as pd\n",
    "from termcolor import colored\n",
    "from sklearn.linear_model import LinearRegression, LogisticRegression, Ridge, Lasso\n",
    "from sklearn.model_selection import train_test_split, cross_val_score\n",
    "from sklearn.feature_selection import RFECV\n",
    "from sklearn.metrics import mean_squared_error, r2_score\n",
    "import seaborn as sns\n",
    "from sklearn.metrics import accuracy_score, classification_report, confusion_matrix, precision_score, recall_score, f1_score\n",
    "from statsmodels.stats.outliers_influence import variance_inflation_factor\n",
    "import statsmodels.api as sm"
   ]
  },
  {
   "cell_type": "code",
   "execution_count": 250,
   "metadata": {},
   "outputs": [
    {
     "data": {
      "text/html": [
       "<div>\n",
       "<style scoped>\n",
       "    .dataframe tbody tr th:only-of-type {\n",
       "        vertical-align: middle;\n",
       "    }\n",
       "\n",
       "    .dataframe tbody tr th {\n",
       "        vertical-align: top;\n",
       "    }\n",
       "\n",
       "    .dataframe thead th {\n",
       "        text-align: right;\n",
       "    }\n",
       "</style>\n",
       "<table border=\"1\" class=\"dataframe\">\n",
       "  <thead>\n",
       "    <tr style=\"text-align: right;\">\n",
       "      <th></th>\n",
       "      <th>bp (Diastolic)</th>\n",
       "      <th>bp limit</th>\n",
       "      <th>sg</th>\n",
       "      <th>al</th>\n",
       "      <th>class</th>\n",
       "      <th>rbc</th>\n",
       "      <th>su</th>\n",
       "      <th>pc</th>\n",
       "      <th>pcc</th>\n",
       "      <th>ba</th>\n",
       "      <th>...</th>\n",
       "      <th>htn</th>\n",
       "      <th>dm</th>\n",
       "      <th>cad</th>\n",
       "      <th>appet</th>\n",
       "      <th>pe</th>\n",
       "      <th>ane</th>\n",
       "      <th>grf</th>\n",
       "      <th>stage</th>\n",
       "      <th>affected</th>\n",
       "      <th>age</th>\n",
       "    </tr>\n",
       "  </thead>\n",
       "  <tbody>\n",
       "    <tr>\n",
       "      <th>0</th>\n",
       "      <td>discrete</td>\n",
       "      <td>discrete</td>\n",
       "      <td>discrete</td>\n",
       "      <td>discrete</td>\n",
       "      <td>discrete</td>\n",
       "      <td>discrete</td>\n",
       "      <td>discrete</td>\n",
       "      <td>discrete</td>\n",
       "      <td>discrete</td>\n",
       "      <td>discrete</td>\n",
       "      <td>...</td>\n",
       "      <td>discrete</td>\n",
       "      <td>discrete</td>\n",
       "      <td>discrete</td>\n",
       "      <td>discrete</td>\n",
       "      <td>discrete</td>\n",
       "      <td>discrete</td>\n",
       "      <td>discrete</td>\n",
       "      <td>discrete</td>\n",
       "      <td>discrete</td>\n",
       "      <td>discrete</td>\n",
       "    </tr>\n",
       "    <tr>\n",
       "      <th>1</th>\n",
       "      <td>NaN</td>\n",
       "      <td>NaN</td>\n",
       "      <td>NaN</td>\n",
       "      <td>NaN</td>\n",
       "      <td>NaN</td>\n",
       "      <td>NaN</td>\n",
       "      <td>NaN</td>\n",
       "      <td>NaN</td>\n",
       "      <td>NaN</td>\n",
       "      <td>NaN</td>\n",
       "      <td>...</td>\n",
       "      <td>NaN</td>\n",
       "      <td>NaN</td>\n",
       "      <td>NaN</td>\n",
       "      <td>NaN</td>\n",
       "      <td>NaN</td>\n",
       "      <td>NaN</td>\n",
       "      <td>NaN</td>\n",
       "      <td>NaN</td>\n",
       "      <td>class</td>\n",
       "      <td>meta</td>\n",
       "    </tr>\n",
       "    <tr>\n",
       "      <th>2</th>\n",
       "      <td>0</td>\n",
       "      <td>0</td>\n",
       "      <td>1.019 - 1.021</td>\n",
       "      <td>1 - 1</td>\n",
       "      <td>ckd</td>\n",
       "      <td>0</td>\n",
       "      <td>&lt; 0</td>\n",
       "      <td>0</td>\n",
       "      <td>0</td>\n",
       "      <td>0</td>\n",
       "      <td>...</td>\n",
       "      <td>0</td>\n",
       "      <td>0</td>\n",
       "      <td>0</td>\n",
       "      <td>0</td>\n",
       "      <td>0</td>\n",
       "      <td>0</td>\n",
       "      <td>≥ 227.944</td>\n",
       "      <td>s1</td>\n",
       "      <td>1</td>\n",
       "      <td>&lt; 12</td>\n",
       "    </tr>\n",
       "    <tr>\n",
       "      <th>3</th>\n",
       "      <td>0</td>\n",
       "      <td>0</td>\n",
       "      <td>1.009 - 1.011</td>\n",
       "      <td>&lt; 0</td>\n",
       "      <td>ckd</td>\n",
       "      <td>0</td>\n",
       "      <td>&lt; 0</td>\n",
       "      <td>0</td>\n",
       "      <td>0</td>\n",
       "      <td>0</td>\n",
       "      <td>...</td>\n",
       "      <td>0</td>\n",
       "      <td>0</td>\n",
       "      <td>0</td>\n",
       "      <td>0</td>\n",
       "      <td>0</td>\n",
       "      <td>0</td>\n",
       "      <td>≥ 227.944</td>\n",
       "      <td>s1</td>\n",
       "      <td>1</td>\n",
       "      <td>&lt; 12</td>\n",
       "    </tr>\n",
       "    <tr>\n",
       "      <th>4</th>\n",
       "      <td>0</td>\n",
       "      <td>0</td>\n",
       "      <td>1.009 - 1.011</td>\n",
       "      <td>≥ 4</td>\n",
       "      <td>ckd</td>\n",
       "      <td>1</td>\n",
       "      <td>&lt; 0</td>\n",
       "      <td>1</td>\n",
       "      <td>0</td>\n",
       "      <td>1</td>\n",
       "      <td>...</td>\n",
       "      <td>0</td>\n",
       "      <td>0</td>\n",
       "      <td>0</td>\n",
       "      <td>1</td>\n",
       "      <td>0</td>\n",
       "      <td>0</td>\n",
       "      <td>127.281 - 152.446</td>\n",
       "      <td>s1</td>\n",
       "      <td>1</td>\n",
       "      <td>&lt; 12</td>\n",
       "    </tr>\n",
       "  </tbody>\n",
       "</table>\n",
       "<p>5 rows × 29 columns</p>\n",
       "</div>"
      ],
      "text/plain": [
       "  bp (Diastolic)  bp limit             sg        al     class       rbc  \\\n",
       "0       discrete  discrete       discrete  discrete  discrete  discrete   \n",
       "1            NaN       NaN            NaN       NaN       NaN       NaN   \n",
       "2              0         0  1.019 - 1.021     1 - 1       ckd         0   \n",
       "3              0         0  1.009 - 1.011       < 0       ckd         0   \n",
       "4              0         0  1.009 - 1.011       ≥ 4       ckd         1   \n",
       "\n",
       "         su        pc       pcc        ba  ...       htn        dm       cad  \\\n",
       "0  discrete  discrete  discrete  discrete  ...  discrete  discrete  discrete   \n",
       "1       NaN       NaN       NaN       NaN  ...       NaN       NaN       NaN   \n",
       "2       < 0         0         0         0  ...         0         0         0   \n",
       "3       < 0         0         0         0  ...         0         0         0   \n",
       "4       < 0         1         0         1  ...         0         0         0   \n",
       "\n",
       "      appet        pe       ane                grf     stage  affected  \\\n",
       "0  discrete  discrete  discrete           discrete  discrete  discrete   \n",
       "1       NaN       NaN       NaN                NaN       NaN     class   \n",
       "2         0         0         0          ≥ 227.944        s1         1   \n",
       "3         0         0         0          ≥ 227.944        s1         1   \n",
       "4         1         0         0  127.281 - 152.446        s1         1   \n",
       "\n",
       "        age  \n",
       "0  discrete  \n",
       "1      meta  \n",
       "2      < 12  \n",
       "3      < 12  \n",
       "4      < 12  \n",
       "\n",
       "[5 rows x 29 columns]"
      ]
     },
     "execution_count": 250,
     "metadata": {},
     "output_type": "execute_result"
    }
   ],
   "source": [
    "path = 'data/ckd-dataset-v2.csv'\n",
    "df = pd.read_csv(path)\n",
    "\n",
    "df.head()\n"
   ]
  },
  {
   "cell_type": "markdown",
   "metadata": {},
   "source": [
    "## Data cleaning"
   ]
  },
  {
   "cell_type": "code",
   "execution_count": 251,
   "metadata": {},
   "outputs": [
    {
     "data": {
      "text/plain": [
       "bp (Diastolic)                0\n",
       "bp limit                      0\n",
       "sg                1.009 - 1.011\n",
       "al                          < 0\n",
       "class                       ckd\n",
       "rbc                           0\n",
       "su                          < 0\n",
       "pc                            0\n",
       "pcc                           0\n",
       "ba                            0\n",
       "bgr                   112 - 154\n",
       "bu                       < 48.1\n",
       "sod                   133 - 138\n",
       "sc                       < 3.65\n",
       "pot                      < 7.31\n",
       "hemo                11.3 - 12.6\n",
       "pcv                 33.5 - 37.4\n",
       "rbcc                4.46 - 5.05\n",
       "wbcc              12120 - 14500\n",
       "htn                           0\n",
       "dm                            0\n",
       "cad                           0\n",
       "appet                         0\n",
       "pe                            0\n",
       "ane                           0\n",
       "grf                   ≥ 227.944\n",
       "stage                        s1\n",
       "affected                      1\n",
       "age                        < 12\n",
       "Name: 1, dtype: object"
      ]
     },
     "execution_count": 251,
     "metadata": {},
     "output_type": "execute_result"
    }
   ],
   "source": [
    "# drop columns with all missing values\n",
    "df = df.dropna(how='all')\n",
    "# first let's drop the first two rows that are immediately visible to be useless\n",
    "df = df.iloc[2:].reset_index(drop=True)\n",
    "\n",
    "# inspct row 1\n",
    "df.iloc[1]"
   ]
  },
  {
   "cell_type": "code",
   "execution_count": 252,
   "metadata": {},
   "outputs": [
    {
     "data": {
      "text/html": [
       "<div>\n",
       "<style scoped>\n",
       "    .dataframe tbody tr th:only-of-type {\n",
       "        vertical-align: middle;\n",
       "    }\n",
       "\n",
       "    .dataframe tbody tr th {\n",
       "        vertical-align: top;\n",
       "    }\n",
       "\n",
       "    .dataframe thead th {\n",
       "        text-align: right;\n",
       "    }\n",
       "</style>\n",
       "<table border=\"1\" class=\"dataframe\">\n",
       "  <thead>\n",
       "    <tr style=\"text-align: right;\">\n",
       "      <th></th>\n",
       "      <th>bp (Diastolic)</th>\n",
       "      <th>bp limit</th>\n",
       "      <th>sg</th>\n",
       "      <th>al</th>\n",
       "      <th>class</th>\n",
       "      <th>rbc</th>\n",
       "      <th>su</th>\n",
       "      <th>pc</th>\n",
       "      <th>pcc</th>\n",
       "      <th>ba</th>\n",
       "      <th>...</th>\n",
       "      <th>htn</th>\n",
       "      <th>dm</th>\n",
       "      <th>cad</th>\n",
       "      <th>appet</th>\n",
       "      <th>pe</th>\n",
       "      <th>ane</th>\n",
       "      <th>grf</th>\n",
       "      <th>stage</th>\n",
       "      <th>affected</th>\n",
       "      <th>age</th>\n",
       "    </tr>\n",
       "  </thead>\n",
       "  <tbody>\n",
       "    <tr>\n",
       "      <th>0</th>\n",
       "      <td>0</td>\n",
       "      <td>0</td>\n",
       "      <td>1.019 - 1.021</td>\n",
       "      <td>1 - 1</td>\n",
       "      <td>ckd</td>\n",
       "      <td>0</td>\n",
       "      <td>&lt; 0</td>\n",
       "      <td>0</td>\n",
       "      <td>0</td>\n",
       "      <td>0</td>\n",
       "      <td>...</td>\n",
       "      <td>0</td>\n",
       "      <td>0</td>\n",
       "      <td>0</td>\n",
       "      <td>0</td>\n",
       "      <td>0</td>\n",
       "      <td>0</td>\n",
       "      <td>≥ 227.944</td>\n",
       "      <td>s1</td>\n",
       "      <td>1</td>\n",
       "      <td>&lt; 12</td>\n",
       "    </tr>\n",
       "    <tr>\n",
       "      <th>1</th>\n",
       "      <td>0</td>\n",
       "      <td>0</td>\n",
       "      <td>1.009 - 1.011</td>\n",
       "      <td>&lt; 0</td>\n",
       "      <td>ckd</td>\n",
       "      <td>0</td>\n",
       "      <td>&lt; 0</td>\n",
       "      <td>0</td>\n",
       "      <td>0</td>\n",
       "      <td>0</td>\n",
       "      <td>...</td>\n",
       "      <td>0</td>\n",
       "      <td>0</td>\n",
       "      <td>0</td>\n",
       "      <td>0</td>\n",
       "      <td>0</td>\n",
       "      <td>0</td>\n",
       "      <td>≥ 227.944</td>\n",
       "      <td>s1</td>\n",
       "      <td>1</td>\n",
       "      <td>&lt; 12</td>\n",
       "    </tr>\n",
       "    <tr>\n",
       "      <th>2</th>\n",
       "      <td>0</td>\n",
       "      <td>0</td>\n",
       "      <td>1.009 - 1.011</td>\n",
       "      <td>≥ 4</td>\n",
       "      <td>ckd</td>\n",
       "      <td>1</td>\n",
       "      <td>&lt; 0</td>\n",
       "      <td>1</td>\n",
       "      <td>0</td>\n",
       "      <td>1</td>\n",
       "      <td>...</td>\n",
       "      <td>0</td>\n",
       "      <td>0</td>\n",
       "      <td>0</td>\n",
       "      <td>1</td>\n",
       "      <td>0</td>\n",
       "      <td>0</td>\n",
       "      <td>127.281 - 152.446</td>\n",
       "      <td>s1</td>\n",
       "      <td>1</td>\n",
       "      <td>&lt; 12</td>\n",
       "    </tr>\n",
       "    <tr>\n",
       "      <th>3</th>\n",
       "      <td>1</td>\n",
       "      <td>1</td>\n",
       "      <td>1.009 - 1.011</td>\n",
       "      <td>3 - 3</td>\n",
       "      <td>ckd</td>\n",
       "      <td>0</td>\n",
       "      <td>&lt; 0</td>\n",
       "      <td>0</td>\n",
       "      <td>0</td>\n",
       "      <td>0</td>\n",
       "      <td>...</td>\n",
       "      <td>0</td>\n",
       "      <td>0</td>\n",
       "      <td>0</td>\n",
       "      <td>0</td>\n",
       "      <td>0</td>\n",
       "      <td>0</td>\n",
       "      <td>127.281 - 152.446</td>\n",
       "      <td>s1</td>\n",
       "      <td>1</td>\n",
       "      <td>&lt; 12</td>\n",
       "    </tr>\n",
       "    <tr>\n",
       "      <th>4</th>\n",
       "      <td>0</td>\n",
       "      <td>0</td>\n",
       "      <td>1.015 - 1.017</td>\n",
       "      <td>&lt; 0</td>\n",
       "      <td>ckd</td>\n",
       "      <td>0</td>\n",
       "      <td>&lt; 0</td>\n",
       "      <td>0</td>\n",
       "      <td>0</td>\n",
       "      <td>0</td>\n",
       "      <td>...</td>\n",
       "      <td>0</td>\n",
       "      <td>1</td>\n",
       "      <td>0</td>\n",
       "      <td>1</td>\n",
       "      <td>1</td>\n",
       "      <td>0</td>\n",
       "      <td>127.281 - 152.446</td>\n",
       "      <td>s1</td>\n",
       "      <td>1</td>\n",
       "      <td>12 - 20</td>\n",
       "    </tr>\n",
       "  </tbody>\n",
       "</table>\n",
       "<p>5 rows × 29 columns</p>\n",
       "</div>"
      ],
      "text/plain": [
       "  bp (Diastolic) bp limit             sg     al class rbc   su pc pcc ba  ...  \\\n",
       "0              0        0  1.019 - 1.021  1 - 1   ckd   0  < 0  0   0  0  ...   \n",
       "1              0        0  1.009 - 1.011    < 0   ckd   0  < 0  0   0  0  ...   \n",
       "2              0        0  1.009 - 1.011    ≥ 4   ckd   1  < 0  1   0  1  ...   \n",
       "3              1        1  1.009 - 1.011  3 - 3   ckd   0  < 0  0   0  0  ...   \n",
       "4              0        0  1.015 - 1.017    < 0   ckd   0  < 0  0   0  0  ...   \n",
       "\n",
       "  htn dm cad appet pe ane                grf stage affected      age  \n",
       "0   0  0   0     0  0   0          ≥ 227.944    s1        1     < 12  \n",
       "1   0  0   0     0  0   0          ≥ 227.944    s1        1     < 12  \n",
       "2   0  0   0     1  0   0  127.281 - 152.446    s1        1     < 12  \n",
       "3   0  0   0     0  0   0  127.281 - 152.446    s1        1     < 12  \n",
       "4   0  1   0     1  1   0  127.281 - 152.446    s1        1  12 - 20  \n",
       "\n",
       "[5 rows x 29 columns]"
      ]
     },
     "execution_count": 252,
     "metadata": {},
     "output_type": "execute_result"
    }
   ],
   "source": [
    "# verify changes so far\n",
    "df.head()"
   ]
  },
  {
   "cell_type": "code",
   "execution_count": 253,
   "metadata": {},
   "outputs": [
    {
     "data": {
      "text/plain": [
       "bp (Diastolic)    0\n",
       "bp limit          0\n",
       "sg                0\n",
       "al                0\n",
       "class             0\n",
       "rbc               0\n",
       "su                0\n",
       "pc                0\n",
       "pcc               0\n",
       "ba                0\n",
       "bgr               0\n",
       "bu                0\n",
       "sod               0\n",
       "sc                0\n",
       "pot               0\n",
       "hemo              0\n",
       "pcv               0\n",
       "rbcc              0\n",
       "wbcc              0\n",
       "htn               0\n",
       "dm                0\n",
       "cad               0\n",
       "appet             0\n",
       "pe                0\n",
       "ane               0\n",
       "grf               0\n",
       "stage             0\n",
       "affected          0\n",
       "age               0\n",
       "dtype: int64"
      ]
     },
     "execution_count": 253,
     "metadata": {},
     "output_type": "execute_result"
    }
   ],
   "source": [
    "# find nan values\n",
    "df.isnull().sum()"
   ]
  },
  {
   "cell_type": "code",
   "execution_count": 254,
   "metadata": {},
   "outputs": [
    {
     "data": {
      "text/plain": [
       "bp (Diastolic)    object\n",
       "bp limit          object\n",
       "sg                object\n",
       "al                object\n",
       "class             object\n",
       "rbc               object\n",
       "su                object\n",
       "pc                object\n",
       "pcc               object\n",
       "ba                object\n",
       "bgr               object\n",
       "bu                object\n",
       "sod               object\n",
       "sc                object\n",
       "pot               object\n",
       "hemo              object\n",
       "pcv               object\n",
       "rbcc              object\n",
       "wbcc              object\n",
       "htn               object\n",
       "dm                object\n",
       "cad               object\n",
       "appet             object\n",
       "pe                object\n",
       "ane               object\n",
       "grf               object\n",
       "stage             object\n",
       "affected          object\n",
       "age               object\n",
       "dtype: object"
      ]
     },
     "execution_count": 254,
     "metadata": {},
     "output_type": "execute_result"
    }
   ],
   "source": [
    "df.dtypes # just inspecting types"
   ]
  },
  {
   "cell_type": "code",
   "execution_count": 255,
   "metadata": {},
   "outputs": [],
   "source": [
    "# rename columns with spaces in the name\n",
    "df.rename(columns={'bp (Diastolic)': 'bp_diastolic'}, inplace=True)\n",
    "df.rename(columns={'bp limit': 'bp_limit'}, inplace=True)\n",
    "df.rename(columns={'class': 'has_ckd'}, inplace=True)"
   ]
  },
  {
   "cell_type": "code",
   "execution_count": 256,
   "metadata": {},
   "outputs": [
    {
     "data": {
      "text/plain": [
       "Index(['bp_diastolic', 'bp_limit', 'sg', 'al', 'has_ckd', 'rbc', 'su', 'pc',\n",
       "       'pcc', 'ba', 'bgr', 'bu', 'sod', 'sc', 'pot', 'hemo', 'pcv', 'rbcc',\n",
       "       'wbcc', 'htn', 'dm', 'cad', 'appet', 'pe', 'ane', 'grf', 'stage',\n",
       "       'affected', 'age'],\n",
       "      dtype='object')"
      ]
     },
     "execution_count": 256,
     "metadata": {},
     "output_type": "execute_result"
    }
   ],
   "source": [
    "df.columns"
   ]
  },
  {
   "cell_type": "code",
   "execution_count": 257,
   "metadata": {},
   "outputs": [
    {
     "name": "stdout",
     "output_type": "stream",
     "text": [
      "bp_diastolic 2\n",
      "bp_limit 3\n",
      "sg 5\n",
      "al 5\n",
      "has_ckd 2\n",
      "rbc 2\n",
      "su 6\n",
      "pc 2\n",
      "pcc 2\n",
      "ba 2\n",
      "bgr 10\n",
      "bu 8\n",
      "sod 9\n",
      "sc 7\n",
      "pot 4\n",
      "hemo 10\n",
      "pcv 10\n",
      "rbcc 9\n",
      "wbcc 9\n",
      "htn 2\n",
      "dm 2\n",
      "cad 2\n",
      "appet 2\n",
      "pe 2\n",
      "ane 2\n",
      "grf 11\n",
      "stage 5\n",
      "affected 2\n",
      "age 10\n"
     ]
    }
   ],
   "source": [
    "# show count of unique values for each column\n",
    "for col in df.columns:\n",
    "    print(col, df[col].nunique())"
   ]
  },
  {
   "cell_type": "code",
   "execution_count": 258,
   "metadata": {},
   "outputs": [
    {
     "name": "stdout",
     "output_type": "stream",
     "text": [
      "\u001b[32mbp_diastolic\u001b[0m ['0' '1']\n",
      "\u001b[32mbp_limit\u001b[0m ['0' '1' '2']\n",
      "\u001b[32msg\u001b[0m ['1.019 - 1.021' '1.009 - 1.011' '1.015 - 1.017' '≥ 1.023' '< 1.007']\n",
      "\u001b[32mal\u001b[0m ['1 - 1' '< 0' '≥ 4' '3 - 3' '2 - 2']\n",
      "\u001b[32mhas_ckd\u001b[0m ['ckd' 'notckd']\n",
      "\u001b[32mrbc\u001b[0m ['0' '1']\n",
      "\u001b[32msu\u001b[0m ['< 0' '4 - 4' '2 - 2' '3 - 4' '1 - 2' '≥ 4']\n",
      "\u001b[32mpc\u001b[0m ['0' '1']\n",
      "\u001b[32mpcc\u001b[0m ['0' '1']\n",
      "\u001b[32mba\u001b[0m ['0' '1']\n",
      "\u001b[32mbgr\u001b[0m ['< 112' '112 - 154' '154 - 196' '406 - 448' '238 - 280' '196 - 238'\n",
      " '≥ 448' '280 - 322' '364 - 406' '322 - 364']\n",
      "\u001b[32mbu\u001b[0m ['< 48.1' '48.1 - 86.2' '200.5 - 238.6' '124.3 - 162.4' '86.2 - 124.3'\n",
      " '162.4 - 200.5' '≥ 352.9' '238.6 - 276.7']\n",
      "\u001b[32msod\u001b[0m ['138 - 143' '133 - 138' '123 - 128' '143 - 148' '148 - 153' '< 118'\n",
      " '128 - 133' '118 - 123' '≥ 158']\n",
      "\u001b[32msc\u001b[0m ['< 3.65' '3.65 - 6.8' '16.25 - 19.4' '6.8 - 9.95' '13.1 - 16.25'\n",
      " '9.95 - 13.1' '≥ 28.85']\n",
      "\u001b[32mpot\u001b[0m ['< 7.31' '≥ 42.59' '7.31 - 11.72' '38.18 - 42.59']\n",
      "\u001b[32mhemo\u001b[0m ['11.3 - 12.6' '8.7 - 10' '13.9 - 15.2' '≥ 16.5' '10 - 11.3' '7.4 - 8.7'\n",
      " '12.6 - 13.9' '15.2 - 16.5' '< 6.1' '6.1 - 7.4']\n",
      "\u001b[32mpcv\u001b[0m ['33.5 - 37.4' '29.6 - 33.5' '41.3 - 45.2' '37.4 - 41.3' '≥ 49.1'\n",
      " '21.8 - 25.7' '45.2 - 49.1' '< 17.9' '25.7 - 29.6' '17.9 - 21.8']\n",
      "\u001b[32mrbcc\u001b[0m ['4.46 - 5.05' '5.05 - 5.64' '3.28 - 3.87' '3.87 - 4.46' '6.23 - 6.82'\n",
      " '5.64 - 6.23' '2.69 - 3.28' '< 2.69' '≥ 7.41']\n",
      "\u001b[32mwbcc\u001b[0m ['7360 - 9740' '12120 - 14500' '14500 - 16880' '4980 - 7360' '< 4980'\n",
      " '9740 - 12120' '16880 - 19260' '≥ 24020' '19260 - 21640']\n",
      "\u001b[32mhtn\u001b[0m ['0' '1']\n",
      "\u001b[32mdm\u001b[0m ['0' '1']\n",
      "\u001b[32mcad\u001b[0m ['0' '1']\n",
      "\u001b[32mappet\u001b[0m ['0' '1']\n",
      "\u001b[32mpe\u001b[0m ['0' '1']\n",
      "\u001b[32mane\u001b[0m ['0' '1']\n",
      "\u001b[32mgrf\u001b[0m ['≥ 227.944' '127.281 - 152.446' '102.115 - 127.281' '177.612 - 202.778'\n",
      " '26.6175 - 51.7832' '51.7832 - 76.949' '76.949 - 102.115'\n",
      " '152.446 - 177.612' '202.778 - 227.944' '< 26.6175' ' p ']\n",
      "\u001b[32mstage\u001b[0m ['s1' 's4' 's3' 's2' 's5']\n",
      "\u001b[32maffected\u001b[0m ['1' '0']\n",
      "\u001b[32mage\u001b[0m ['< 12' '12 - 20' '20 - 27' '27 - 35' '35 - 43' '43 - 51' '51 - 59'\n",
      " '59 - 66' '66 - 74' '≥ 74']\n"
     ]
    }
   ],
   "source": [
    "# show unique values for each column (since we know there aren't any columns with overwhealmingly many unique values)\n",
    "for col in df.columns:\n",
    "    print(colored(col, 'green'), df[col].unique())"
   ]
  },
  {
   "cell_type": "code",
   "execution_count": 259,
   "metadata": {},
   "outputs": [],
   "source": [
    "# these columns already have valid numeric strings, so converting them to numeric first\n",
    "to_numeric_1 = ['bp_diastolic', 'bp_limit', 'rbc', 'pc', 'pcc', 'ba', 'htn', 'dm', 'cad']\n",
    "for col in to_numeric_1:\n",
    "    df[col] = pd.to_numeric(df[col], errors='raise')"
   ]
  },
  {
   "cell_type": "code",
   "execution_count": 260,
   "metadata": {},
   "outputs": [],
   "source": [
    "# turn class column into binary. cgk = 1, notckd = 0\n",
    "df['has_ckd'] = df['has_ckd'].map({'ckd': 1, 'notckd': 0})\n",
    "df['stage'] = df['stage'].map({'s1': 1, 's2': 2, 's3': 3, 's4': 4, 's5': 5})"
   ]
  },
  {
   "cell_type": "code",
   "execution_count": 261,
   "metadata": {},
   "outputs": [],
   "source": [
    "def process_range(val):\n",
    "    \"\"\"This function processes the range values in the dataset and returns the average of the range.\n",
    "    For < and ≥ values, it returns the lower and upper limits respectively.\n",
    "    \"\"\"\n",
    "    try:\n",
    "        # Try to convert directly to float (if it's already a valid number like '27')\n",
    "        return float(val)\n",
    "    except ValueError:\n",
    "        # Handle ranges and comparisons\n",
    "        if '-' in val:\n",
    "            low, high = map(float, val.split('-'))\n",
    "            return (low + high) / 2  # Take the midpoint of the range\n",
    "        elif '<' in val:\n",
    "            return float(val.replace('<', '').strip())  # Return the lower limit\n",
    "        elif '≥' in val:\n",
    "            return float(val.replace('≥', '').strip())  # Return the upper limit\n",
    "        else:\n",
    "            return np.nan  # Return NaN for anything unexpected"
   ]
  },
  {
   "cell_type": "code",
   "execution_count": 262,
   "metadata": {},
   "outputs": [],
   "source": [
    "# process the rest of the columns\n",
    "for col in df.columns:\n",
    "    if col not in to_numeric_1 + ['has_ckd', 'stage']:\n",
    "        df[col] = df[col].apply(process_range)"
   ]
  },
  {
   "cell_type": "code",
   "execution_count": 263,
   "metadata": {},
   "outputs": [
    {
     "data": {
      "text/plain": [
       "bp_diastolic      int64\n",
       "bp_limit          int64\n",
       "sg              float64\n",
       "al              float64\n",
       "has_ckd           int64\n",
       "rbc               int64\n",
       "su              float64\n",
       "pc                int64\n",
       "pcc               int64\n",
       "ba                int64\n",
       "bgr             float64\n",
       "bu              float64\n",
       "sod             float64\n",
       "sc              float64\n",
       "pot             float64\n",
       "hemo            float64\n",
       "pcv             float64\n",
       "rbcc            float64\n",
       "wbcc            float64\n",
       "htn               int64\n",
       "dm                int64\n",
       "cad               int64\n",
       "appet           float64\n",
       "pe              float64\n",
       "ane             float64\n",
       "grf             float64\n",
       "stage             int64\n",
       "affected        float64\n",
       "age             float64\n",
       "dtype: object"
      ]
     },
     "execution_count": 263,
     "metadata": {},
     "output_type": "execute_result"
    }
   ],
   "source": [
    "df.dtypes # let's inspect the types again and confirm our changes"
   ]
  },
  {
   "cell_type": "code",
   "execution_count": 264,
   "metadata": {},
   "outputs": [
    {
     "data": {
      "text/plain": [
       "bp_diastolic    0\n",
       "bp_limit        0\n",
       "sg              0\n",
       "al              0\n",
       "has_ckd         0\n",
       "rbc             0\n",
       "su              0\n",
       "pc              0\n",
       "pcc             0\n",
       "ba              0\n",
       "bgr             0\n",
       "bu              0\n",
       "sod             0\n",
       "sc              0\n",
       "pot             0\n",
       "hemo            0\n",
       "pcv             0\n",
       "rbcc            0\n",
       "wbcc            0\n",
       "htn             0\n",
       "dm              0\n",
       "cad             0\n",
       "appet           0\n",
       "pe              0\n",
       "ane             0\n",
       "grf             1\n",
       "stage           0\n",
       "affected        0\n",
       "age             0\n",
       "dtype: int64"
      ]
     },
     "execution_count": 264,
     "metadata": {},
     "output_type": "execute_result"
    }
   ],
   "source": [
    "df.isnull().sum() # check for missing values"
   ]
  },
  {
   "cell_type": "code",
   "execution_count": 265,
   "metadata": {},
   "outputs": [
    {
     "data": {
      "text/plain": [
       "array([227.944  , 139.8635 , 114.698  , 190.195  ,  39.20035,  64.3661 ,\n",
       "        89.532  , 165.029  , 215.361  ,  26.6175 ,       nan])"
      ]
     },
     "execution_count": 265,
     "metadata": {},
     "output_type": "execute_result"
    }
   ],
   "source": [
    "# We found that grf has 1 missing value, let's inspect it\n",
    "df['grf'].unique()"
   ]
  },
  {
   "cell_type": "code",
   "execution_count": 266,
   "metadata": {},
   "outputs": [
    {
     "name": "stdout",
     "output_type": "stream",
     "text": [
      "class for missing grf: 179    1\n",
      "Name: has_ckd, dtype: int64\n",
      "Median grf for class 1: 26.6175\n"
     ]
    }
   ],
   "source": [
    "# tried applying CDK-EPI formula to calculate GFR, but it didn't work out. (from https://www.ncbi.nlm.nih.gov/pmc/articles/PMC2866096/)\n",
    "# The estimated values were way off\n",
    "# instead let's use the mean value of the same class to fill in the missing values\n",
    "\n",
    "# find row with NaN grf value\n",
    "class_value = df[df['grf'].isnull()]['has_ckd']\n",
    "print(f\"class for missing grf: {class_value}\")\n",
    "\n",
    "# find median value of grf for the same class. Using median because we transformed ranges to single values\n",
    "median_grf = df[df['has_ckd'] == 1]['grf'].median()\n",
    "print(f\"Median grf for class 1: {median_grf}\")\n",
    "\n",
    "# fill in the missing value if class == 1 and grf is NaN\n",
    "df.loc[(df['has_ckd'] == 1) & (df['grf'].isnull()), 'grf'] = median_grf\n",
    "\n"
   ]
  },
  {
   "cell_type": "code",
   "execution_count": 267,
   "metadata": {},
   "outputs": [
    {
     "data": {
      "text/plain": [
       "bp_diastolic    0\n",
       "bp_limit        0\n",
       "sg              0\n",
       "al              0\n",
       "has_ckd         0\n",
       "rbc             0\n",
       "su              0\n",
       "pc              0\n",
       "pcc             0\n",
       "ba              0\n",
       "bgr             0\n",
       "bu              0\n",
       "sod             0\n",
       "sc              0\n",
       "pot             0\n",
       "hemo            0\n",
       "pcv             0\n",
       "rbcc            0\n",
       "wbcc            0\n",
       "htn             0\n",
       "dm              0\n",
       "cad             0\n",
       "appet           0\n",
       "pe              0\n",
       "ane             0\n",
       "grf             0\n",
       "stage           0\n",
       "affected        0\n",
       "age             0\n",
       "dtype: int64"
      ]
     },
     "execution_count": 267,
     "metadata": {},
     "output_type": "execute_result"
    }
   ],
   "source": [
    "df.isnull().sum() # check again for missing values and confirm the fix"
   ]
  },
  {
   "cell_type": "code",
   "execution_count": 268,
   "metadata": {},
   "outputs": [],
   "source": [
    "clean_df = df.copy() # make a copy of the cleaned dataframe for later use"
   ]
  },
  {
   "cell_type": "code",
   "execution_count": 269,
   "metadata": {},
   "outputs": [],
   "source": [
    "def pretty_print_dict(d, accentKeys=[]):\n",
    "    \"\"\"Helper function to print dictionary values with color\"\"\"\n",
    "    for key in accentKeys:\n",
    "        if key in d:\n",
    "            print(f\"{key}: {colored(round(d[key], 4), 'green')}\")\n",
    "    for key, value in d.items():\n",
    "        if key not in accentKeys:\n",
    "            print(f\"{key}: {colored(round(value, 4), 'yellow')}\")\n",
    "\n"
   ]
  },
  {
   "cell_type": "markdown",
   "metadata": {},
   "source": [
    "## Prediction objectives and strategy:\n",
    "1. Replicate the findings from [this paper](https://www.semanticscholar.org/paper/Risk-Factor-Prediction-of-Chronic-Kidney-Disease-on-Islam-Akter/a4b90dd7b9dfaffa9eff1efc6555bbce62a963d7). We will focus on Linear Regression.\n",
    "2. Investigate ways to improve the model and compare with the paper's predictions\n",
    "3. Implement a Logistic Regression for this problem. We believe using a Logistic Regression is more appropriate than a Linear Regression because the has_ckd feature is Binomial\n",
    "4. Compare the results and arrive at a conclusion"
   ]
  },
  {
   "cell_type": "markdown",
   "metadata": {},
   "source": [
    "### Replicating the Linear Regression"
   ]
  },
  {
   "cell_type": "markdown",
   "metadata": {},
   "source": [
    "#### The RF-CDK study published the following models and model prediction functions:\n",
    "![title](rf-ckd-model-weights.png)"
   ]
  },
  {
   "cell_type": "code",
   "execution_count": 270,
   "metadata": {},
   "outputs": [],
   "source": [
    "def linear_regression(X, y, show_results=True):\n",
    "    \"\"\"Helper function for creating a linear regression model and returning the results\"\"\"\n",
    "    X_train, X_test, y_train, y_test = train_test_split(X, y, test_size=0.2, random_state=42)\n",
    "\n",
    "    model = LinearRegression()\n",
    "    model.fit(X_train, y_train)\n",
    "\n",
    "    y_pred = model.predict(X_test)\n",
    "\n",
    "    coefficients = model.coef_\n",
    "    intercept = model.intercept_\n",
    "\n",
    "    results = {\n",
    "        'intercept': intercept,\n",
    "        'r2': r2_score(y_test, y_pred),\n",
    "        'mse': mean_squared_error(y_test, y_pred)\n",
    "    }\n",
    "    for feature, coef in zip(X.columns, coefficients):\n",
    "        results[feature] = coef\n",
    "    \n",
    "    if show_results:\n",
    "        pretty_print_dict(results, accentKeys=['r2', 'mse'])\n",
    "    return results, model"
   ]
  },
  {
   "cell_type": "code",
   "execution_count": 271,
   "metadata": {},
   "outputs": [
    {
     "name": "stdout",
     "output_type": "stream",
     "text": [
      "r2: \u001b[32m0.616\u001b[0m\n",
      "mse: \u001b[32m0.09\u001b[0m\n",
      "intercept: \u001b[33m2.2105\u001b[0m\n",
      "bu: \u001b[33m-0.0004\u001b[0m\n",
      "hemo: \u001b[33m-0.1018\u001b[0m\n",
      "wbcc: \u001b[33m0.0\u001b[0m\n",
      "rbcc: \u001b[33m-0.0893\u001b[0m\n",
      "htn: \u001b[33m0.2129\u001b[0m\n"
     ]
    }
   ],
   "source": [
    "# The LR model in the paper we want to replicate used these exact features\n",
    "X = df[['bu', 'hemo', 'wbcc', 'rbcc', 'htn']]\n",
    "y = df['has_ckd']\n",
    "replica_model = linear_regression(X, y)"
   ]
  },
  {
   "cell_type": "markdown",
   "metadata": {},
   "source": [
    "#### Observations thus far\n",
    "- We were not able to replicate the exact prediction function as in the study, but we were pretty close in terms of coefficients. It is safe to assume that the performance of this replicated model is the same as in the study\n",
    "\n",
    "#### Comparing the replica model with a custom made model using the exact coefficients as in the study"
   ]
  },
  {
   "cell_type": "code",
   "execution_count": 272,
   "metadata": {},
   "outputs": [
    {
     "name": "stdout",
     "output_type": "stream",
     "text": [
      "Manual Model R-squared: 0.5766\n",
      "Manual Model Mean Squared Error: 0.0976\n"
     ]
    }
   ],
   "source": [
    "# Using same weights as the rfckd study: https://ieeexplore.ieee.org/document/9315878\n",
    "def manual_linear_regression(X):\n",
    "    predictions = (\n",
    "        X['bu'] * -0.0002 +\n",
    "        X['hemo'] * -0.091 +\n",
    "        X['wbcc'] * 0.0 +  # wbcc has no effect\n",
    "        X['rbcc'] * -0.0076 +\n",
    "        X['htn'] * 0.288 +\n",
    "        1.5892  # Intercept\n",
    "    )\n",
    "    return predictions\n",
    "\n",
    "y_pred_manual = manual_linear_regression(X)\n",
    "r2_manual = r2_score(y, y_pred_manual)\n",
    "mse_manual = mean_squared_error(y, y_pred_manual)\n",
    "\n",
    "print(f\"Manual Model R-squared: {round(r2_manual, 4)}\")\n",
    "print(f\"Manual Model Mean Squared Error: {round(mse_manual, 4)}\")"
   ]
  },
  {
   "cell_type": "markdown",
   "metadata": {},
   "source": [
    "The R-squared of the replica is 0.616, while using the exact parameters, the R-squared is 0.576. The parameters in the replica create better predictors based on the current data"
   ]
  },
  {
   "cell_type": "code",
   "execution_count": 273,
   "metadata": {},
   "outputs": [
    {
     "name": "stdout",
     "output_type": "stream",
     "text": [
      "                            OLS Regression Results                            \n",
      "==============================================================================\n",
      "Dep. Variable:                has_ckd   R-squared:                       0.789\n",
      "Model:                            OLS   Adj. R-squared:                  0.758\n",
      "Method:                 Least Squares   F-statistic:                     24.92\n",
      "Date:                Tue, 15 Oct 2024   Prob (F-statistic):           1.69e-45\n",
      "Time:                        00:22:10   Log-Likelihood:                 18.707\n",
      "No. Observations:                 200   AIC:                             16.59\n",
      "Df Residuals:                     173   BIC:                             105.6\n",
      "Df Model:                          26                                         \n",
      "Covariance Type:            nonrobust                                         \n",
      "================================================================================\n",
      "                   coef    std err          t      P>|t|      [0.025      0.975]\n",
      "--------------------------------------------------------------------------------\n",
      "const           29.6034      4.478      6.611      0.000      20.764      38.442\n",
      "bp_diastolic    -0.1272      0.078     -1.634      0.104      -0.281       0.026\n",
      "bp_limit         0.1158      0.053      2.185      0.030       0.011       0.220\n",
      "sg             -26.5062      4.488     -5.906      0.000     -35.365     -17.648\n",
      "al               0.0409      0.020      2.024      0.045       0.001       0.081\n",
      "rbc             -0.0901      0.063     -1.423      0.156      -0.215       0.035\n",
      "su               0.0145      0.025      0.578      0.564      -0.035       0.064\n",
      "pc              -0.0345      0.065     -0.532      0.595      -0.162       0.093\n",
      "pcc             -0.0325      0.067     -0.486      0.627      -0.164       0.099\n",
      "ba              -0.1472      0.087     -1.693      0.092      -0.319       0.024\n",
      "bgr           6.639e-05      0.000      0.193      0.848      -0.001       0.001\n",
      "bu               0.0010      0.001      1.189      0.236      -0.001       0.003\n",
      "sod             -0.0052      0.004     -1.485      0.139      -0.012       0.002\n",
      "sc              -0.0188      0.013     -1.493      0.137      -0.044       0.006\n",
      "pot             -0.0013      0.007     -0.205      0.838      -0.014       0.012\n",
      "hemo            -0.0724      0.014     -5.215      0.000      -0.100      -0.045\n",
      "pcv             -0.0031      0.005     -0.668      0.505      -0.012       0.006\n",
      "rbcc            -0.0293      0.029     -1.011      0.313      -0.087       0.028\n",
      "wbcc         -4.632e-06   7.02e-06     -0.659      0.510   -1.85e-05    9.23e-06\n",
      "htn              0.0672      0.053      1.257      0.211      -0.038       0.173\n",
      "dm               0.0708      0.053      1.330      0.185      -0.034       0.176\n",
      "cad             -0.0715      0.066     -1.080      0.282      -0.202       0.059\n",
      "appet            0.0880      0.052      1.705      0.090      -0.014       0.190\n",
      "pe              -0.0043      0.056     -0.076      0.939      -0.115       0.107\n",
      "ane             -0.1846      0.064     -2.864      0.005      -0.312      -0.057\n",
      "grf             -0.0015      0.000     -3.126      0.002      -0.002      -0.001\n",
      "age             -0.0008      0.001     -0.637      0.525      -0.003       0.002\n",
      "==============================================================================\n",
      "Omnibus:                        5.170   Durbin-Watson:                   1.911\n",
      "Prob(Omnibus):                  0.075   Jarque-Bera (JB):                5.191\n",
      "Skew:                           0.363   Prob(JB):                       0.0746\n",
      "Kurtosis:                       2.689   Cond. No.                     3.47e+06\n",
      "==============================================================================\n",
      "\n",
      "Notes:\n",
      "[1] Standard Errors assume that the covariance matrix of the errors is correctly specified.\n",
      "[2] The condition number is large, 3.47e+06. This might indicate that there are\n",
      "strong multicollinearity or other numerical problems.\n"
     ]
    }
   ],
   "source": [
    "# First let's inspect the p-values of the features\n",
    "X = df[['bp_diastolic', 'bp_limit', 'sg', 'al', 'rbc', 'su', 'pc',\n",
    "       'pcc', 'ba', 'bgr', 'bu', 'sod', 'sc', 'pot', 'hemo', 'pcv', 'rbcc',\n",
    "       'wbcc', 'htn', 'dm', 'cad', 'appet', 'pe', 'ane', 'grf', 'age']]\n",
    "y = df['has_ckd']\n",
    "X = sm.add_constant(X)\n",
    "model = sm.OLS(y, X).fit()\n",
    "print(model.summary())"
   ]
  },
  {
   "cell_type": "code",
   "execution_count": 274,
   "metadata": {},
   "outputs": [
    {
     "name": "stdout",
     "output_type": "stream",
     "text": [
      "bp_limit: \u001b[33m0.0302\u001b[0m\n",
      "sg: \u001b[33m0.0\u001b[0m\n",
      "al: \u001b[33m0.0446\u001b[0m\n",
      "hemo: \u001b[33m0.0\u001b[0m\n",
      "ane: \u001b[33m0.0047\u001b[0m\n",
      "grf: \u001b[33m0.0021\u001b[0m\n",
      "None\n"
     ]
    }
   ],
   "source": [
    "# get the p-values from the model\n",
    "p_values = model.pvalues\n",
    "p_values_lt_than_0_05 = p_values[p_values < 0.05]\n",
    "del p_values_lt_than_0_05['const']\n",
    "\n",
    "print(pretty_print_dict(p_values_lt_than_0_05))\n",
    "significant_features = p_values_lt_than_0_05.index"
   ]
  },
  {
   "cell_type": "code",
   "execution_count": 275,
   "metadata": {},
   "outputs": [
    {
     "data": {
      "image/png": "[encoded data removed]",
      "text/plain": [
       "<Figure size 1000x600 with 2 Axes>"
      ]
     },
     "metadata": {},
     "output_type": "display_data"
    }
   ],
   "source": [
    "# In order to find the best features, we can start by inspecting the correlation matrix\n",
    "corr_matrix = df[significant_features].corr()\n",
    "plt.figure(figsize=(10, 6))\n",
    "sns.heatmap(corr_matrix, annot=True, cmap=\"coolwarm\")\n",
    "plt.show()"
   ]
  },
  {
   "cell_type": "markdown",
   "metadata": {},
   "source": [
    "No significant correlation found among the remaining features"
   ]
  },
  {
   "cell_type": "code",
   "execution_count": 276,
   "metadata": {},
   "outputs": [
    {
     "name": "stdout",
     "output_type": "stream",
     "text": [
      "Using these features: ['bp_limit', 'sg', 'al', 'hemo', 'ane', 'grf']\n",
      "Cross-Validated R-squared scores: [0.40951505 0.71602613 0.76125971 0.72337089 0.76407239]\n",
      "Mean R-squared from cross-validation: 0.6748488332028546\n"
     ]
    }
   ],
   "source": [
    "# Now, we'll do a cross-validated linear regression model with remaining features\n",
    "X = df[list(significant_features)]\n",
    "y = df['has_ckd']\n",
    "\n",
    "# Initialize and cross-validate the model\n",
    "model = LinearRegression()\n",
    "cv_scores = cross_val_score(model, X, y, cv=5, scoring=\"r2\")  # R-squared scoring\n",
    "print(f\"Using these features: {list(significant_features)}\")\n",
    "print(\"Cross-Validated R-squared scores:\", cv_scores)\n",
    "print(\"Mean R-squared from cross-validation:\", cv_scores.mean())\n"
   ]
  },
  {
   "cell_type": "markdown",
   "metadata": {},
   "source": [
    "The cross-validated R-squared scores range from approximately 0.41 to 0.76, with a mean R-squared of 0.675. This mean R-squared suggests that the model explains about 67.5% of the variance in the target variable (`has_ckd`) across different data splits, indicating moderate predictive power. \n",
    "\n",
    "The variability in individual R-squared scores across folds (from 0.41 to 0.76) suggests that model performance is somewhat dependent on the specific subset of data used in each fold. While the model shows reasonable generalizability, further tuning or additional predictors could potentially stabilize performance across data splits.\n",
    "\n",
    "Still, this is slightly better than the replica model"
   ]
  },
  {
   "cell_type": "code",
   "execution_count": 277,
   "metadata": {},
   "outputs": [
    {
     "name": "stdout",
     "output_type": "stream",
     "text": [
      "Optimal number of features: 6\n",
      "Best features: Index(['bp_limit', 'sg', 'al', 'hemo', 'ane', 'grf'], dtype='object')\n"
     ]
    }
   ],
   "source": [
    "model = LinearRegression()\n",
    "rfecv = RFECV(estimator=model, step=1, cv=5, scoring=\"r2\")\n",
    "rfecv.fit(X, y)\n",
    "\n",
    "print(\"Optimal number of features:\", rfecv.n_features_)\n",
    "print(\"Best features:\", X.columns[rfecv.support_])"
   ]
  },
  {
   "cell_type": "code",
   "execution_count": 278,
   "metadata": {},
   "outputs": [
    {
     "name": "stdout",
     "output_type": "stream",
     "text": [
      "r2: \u001b[32m0.7192\u001b[0m\n",
      "mse: \u001b[32m0.0658\u001b[0m\n",
      "intercept: \u001b[33m34.8392\u001b[0m\n",
      "bp_limit: \u001b[33m0.033\u001b[0m\n",
      "sg: \u001b[33m-32.3444\u001b[0m\n",
      "al: \u001b[33m0.0355\u001b[0m\n",
      "hemo: \u001b[33m-0.1009\u001b[0m\n",
      "ane: \u001b[33m-0.1223\u001b[0m\n",
      "grf: \u001b[33m-0.0013\u001b[0m\n"
     ]
    }
   ],
   "source": [
    "results, model = linear_regression(X, y) # winning model\n",
    "linear_regression_winning_model, linear_regression_winning_results = model, results"
   ]
  },
  {
   "cell_type": "markdown",
   "metadata": {},
   "source": [
    "#### Result\n",
    "This model performs better than the previous best (replica model) both in r-squared and mse."
   ]
  },
  {
   "cell_type": "markdown",
   "metadata": {},
   "source": [
    "### Logistic Regression"
   ]
  },
  {
   "cell_type": "code",
   "execution_count": 279,
   "metadata": {},
   "outputs": [
    {
     "data": {
      "text/html": [
       "<div>\n",
       "<style scoped>\n",
       "    .dataframe tbody tr th:only-of-type {\n",
       "        vertical-align: middle;\n",
       "    }\n",
       "\n",
       "    .dataframe tbody tr th {\n",
       "        vertical-align: top;\n",
       "    }\n",
       "\n",
       "    .dataframe thead th {\n",
       "        text-align: right;\n",
       "    }\n",
       "</style>\n",
       "<table border=\"1\" class=\"dataframe\">\n",
       "  <thead>\n",
       "    <tr style=\"text-align: right;\">\n",
       "      <th></th>\n",
       "      <th>bp_diastolic</th>\n",
       "      <th>bp_limit</th>\n",
       "      <th>sg</th>\n",
       "      <th>al</th>\n",
       "      <th>has_ckd</th>\n",
       "      <th>rbc</th>\n",
       "      <th>su</th>\n",
       "      <th>pc</th>\n",
       "      <th>pcc</th>\n",
       "      <th>ba</th>\n",
       "      <th>...</th>\n",
       "      <th>htn</th>\n",
       "      <th>dm</th>\n",
       "      <th>cad</th>\n",
       "      <th>appet</th>\n",
       "      <th>pe</th>\n",
       "      <th>ane</th>\n",
       "      <th>grf</th>\n",
       "      <th>stage</th>\n",
       "      <th>affected</th>\n",
       "      <th>age</th>\n",
       "    </tr>\n",
       "  </thead>\n",
       "  <tbody>\n",
       "    <tr>\n",
       "      <th>0</th>\n",
       "      <td>0</td>\n",
       "      <td>0</td>\n",
       "      <td>1.020</td>\n",
       "      <td>1.0</td>\n",
       "      <td>1</td>\n",
       "      <td>0</td>\n",
       "      <td>0.0</td>\n",
       "      <td>0</td>\n",
       "      <td>0</td>\n",
       "      <td>0</td>\n",
       "      <td>...</td>\n",
       "      <td>0</td>\n",
       "      <td>0</td>\n",
       "      <td>0</td>\n",
       "      <td>0.0</td>\n",
       "      <td>0.0</td>\n",
       "      <td>0.0</td>\n",
       "      <td>227.9440</td>\n",
       "      <td>1</td>\n",
       "      <td>1.0</td>\n",
       "      <td>12.0</td>\n",
       "    </tr>\n",
       "    <tr>\n",
       "      <th>1</th>\n",
       "      <td>0</td>\n",
       "      <td>0</td>\n",
       "      <td>1.010</td>\n",
       "      <td>0.0</td>\n",
       "      <td>1</td>\n",
       "      <td>0</td>\n",
       "      <td>0.0</td>\n",
       "      <td>0</td>\n",
       "      <td>0</td>\n",
       "      <td>0</td>\n",
       "      <td>...</td>\n",
       "      <td>0</td>\n",
       "      <td>0</td>\n",
       "      <td>0</td>\n",
       "      <td>0.0</td>\n",
       "      <td>0.0</td>\n",
       "      <td>0.0</td>\n",
       "      <td>227.9440</td>\n",
       "      <td>1</td>\n",
       "      <td>1.0</td>\n",
       "      <td>12.0</td>\n",
       "    </tr>\n",
       "    <tr>\n",
       "      <th>2</th>\n",
       "      <td>0</td>\n",
       "      <td>0</td>\n",
       "      <td>1.010</td>\n",
       "      <td>4.0</td>\n",
       "      <td>1</td>\n",
       "      <td>1</td>\n",
       "      <td>0.0</td>\n",
       "      <td>1</td>\n",
       "      <td>0</td>\n",
       "      <td>1</td>\n",
       "      <td>...</td>\n",
       "      <td>0</td>\n",
       "      <td>0</td>\n",
       "      <td>0</td>\n",
       "      <td>1.0</td>\n",
       "      <td>0.0</td>\n",
       "      <td>0.0</td>\n",
       "      <td>139.8635</td>\n",
       "      <td>1</td>\n",
       "      <td>1.0</td>\n",
       "      <td>12.0</td>\n",
       "    </tr>\n",
       "    <tr>\n",
       "      <th>3</th>\n",
       "      <td>1</td>\n",
       "      <td>1</td>\n",
       "      <td>1.010</td>\n",
       "      <td>3.0</td>\n",
       "      <td>1</td>\n",
       "      <td>0</td>\n",
       "      <td>0.0</td>\n",
       "      <td>0</td>\n",
       "      <td>0</td>\n",
       "      <td>0</td>\n",
       "      <td>...</td>\n",
       "      <td>0</td>\n",
       "      <td>0</td>\n",
       "      <td>0</td>\n",
       "      <td>0.0</td>\n",
       "      <td>0.0</td>\n",
       "      <td>0.0</td>\n",
       "      <td>139.8635</td>\n",
       "      <td>1</td>\n",
       "      <td>1.0</td>\n",
       "      <td>12.0</td>\n",
       "    </tr>\n",
       "    <tr>\n",
       "      <th>4</th>\n",
       "      <td>0</td>\n",
       "      <td>0</td>\n",
       "      <td>1.016</td>\n",
       "      <td>0.0</td>\n",
       "      <td>1</td>\n",
       "      <td>0</td>\n",
       "      <td>0.0</td>\n",
       "      <td>0</td>\n",
       "      <td>0</td>\n",
       "      <td>0</td>\n",
       "      <td>...</td>\n",
       "      <td>0</td>\n",
       "      <td>1</td>\n",
       "      <td>0</td>\n",
       "      <td>1.0</td>\n",
       "      <td>1.0</td>\n",
       "      <td>0.0</td>\n",
       "      <td>139.8635</td>\n",
       "      <td>1</td>\n",
       "      <td>1.0</td>\n",
       "      <td>16.0</td>\n",
       "    </tr>\n",
       "  </tbody>\n",
       "</table>\n",
       "<p>5 rows × 29 columns</p>\n",
       "</div>"
      ],
      "text/plain": [
       "   bp_diastolic  bp_limit     sg   al  has_ckd  rbc   su  pc  pcc  ba  ...  \\\n",
       "0             0         0  1.020  1.0        1    0  0.0   0    0   0  ...   \n",
       "1             0         0  1.010  0.0        1    0  0.0   0    0   0  ...   \n",
       "2             0         0  1.010  4.0        1    1  0.0   1    0   1  ...   \n",
       "3             1         1  1.010  3.0        1    0  0.0   0    0   0  ...   \n",
       "4             0         0  1.016  0.0        1    0  0.0   0    0   0  ...   \n",
       "\n",
       "   htn  dm  cad  appet   pe  ane       grf  stage  affected   age  \n",
       "0    0   0    0    0.0  0.0  0.0  227.9440      1       1.0  12.0  \n",
       "1    0   0    0    0.0  0.0  0.0  227.9440      1       1.0  12.0  \n",
       "2    0   0    0    1.0  0.0  0.0  139.8635      1       1.0  12.0  \n",
       "3    0   0    0    0.0  0.0  0.0  139.8635      1       1.0  12.0  \n",
       "4    0   1    0    1.0  1.0  0.0  139.8635      1       1.0  16.0  \n",
       "\n",
       "[5 rows x 29 columns]"
      ]
     },
     "execution_count": 279,
     "metadata": {},
     "output_type": "execute_result"
    }
   ],
   "source": [
    "df = clean_df.copy() # reset the dataframe to the cleaned version\n",
    "df.head()"
   ]
  },
  {
   "cell_type": "markdown",
   "metadata": {},
   "source": [
    "#### Correlation Matrix\n",
    "If you see any pairs with high correlations (> 0.7), you may need to remove one of the correlated features or apply dimensionality reduction"
   ]
  },
  {
   "cell_type": "code",
   "execution_count": 280,
   "metadata": {},
   "outputs": [
    {
     "name": "stdout",
     "output_type": "stream",
     "text": [
      "          bp_limit        sg        al       ane      hemo      rbcc  \\\n",
      "bp_limit  1.000000 -0.076103  0.178445  0.285984 -0.322233 -0.211596   \n",
      "sg       -0.076103  1.000000 -0.437849 -0.111426  0.425092  0.424160   \n",
      "al        0.178445 -0.437849  1.000000  0.273904 -0.497136 -0.410913   \n",
      "ane       0.285984 -0.111426  0.273904  1.000000 -0.567110 -0.382500   \n",
      "hemo     -0.322233  0.425092 -0.497136 -0.567110  1.000000  0.638086   \n",
      "rbcc     -0.211596  0.424160 -0.410913 -0.382500  0.638086  1.000000   \n",
      "htn       0.180106 -0.306306  0.475734  0.294164 -0.573199 -0.510611   \n",
      "grf      -0.242316  0.357467 -0.401874 -0.320872  0.579358  0.420097   \n",
      "bu        0.200774 -0.198337  0.359884  0.482338 -0.480684 -0.389282   \n",
      "\n",
      "               htn       grf        bu  \n",
      "bp_limit  0.180106 -0.242316  0.200774  \n",
      "sg       -0.306306  0.357467 -0.198337  \n",
      "al        0.475734 -0.401874  0.359884  \n",
      "ane       0.294164 -0.320872  0.482338  \n",
      "hemo     -0.573199  0.579358 -0.480684  \n",
      "rbcc     -0.510611  0.420097 -0.389282  \n",
      "htn       1.000000 -0.526852  0.330562  \n",
      "grf      -0.526852  1.000000 -0.407753  \n",
      "bu        0.330562 -0.407753  1.000000  \n"
     ]
    },
    {
     "data": {
      "image/png": "[encoded data removed]",
      "text/plain": [
       "<Figure size 1000x600 with 2 Axes>"
      ]
     },
     "metadata": {},
     "output_type": "display_data"
    }
   ],
   "source": [
    "X = df[['bp_limit', 'sg', 'al', 'ane', 'hemo', 'rbcc', 'htn', 'grf', 'bu']]\n",
    "\n",
    "# Compute the correlation matrix\n",
    "corr_matrix = X.corr()\n",
    "print(corr_matrix)\n",
    "plt.figure(figsize=(10, 6))\n",
    "sns.heatmap(corr_matrix, annot=True, cmap='coolwarm')\n",
    "plt.show()"
   ]
  },
  {
   "cell_type": "markdown",
   "metadata": {},
   "source": [
    "The correlation between rbcc and hemo is slightly high"
   ]
  },
  {
   "cell_type": "code",
   "execution_count": 281,
   "metadata": {},
   "outputs": [
    {
     "data": {
      "text/plain": [
       "Index(['bp_diastolic', 'bp_limit', 'sg', 'al', 'has_ckd', 'rbc', 'su', 'pc',\n",
       "       'pcc', 'ba', 'bgr', 'bu', 'sod', 'sc', 'pot', 'hemo', 'pcv', 'rbcc',\n",
       "       'wbcc', 'htn', 'dm', 'cad', 'appet', 'pe', 'ane', 'grf', 'stage',\n",
       "       'affected', 'age'],\n",
       "      dtype='object')"
      ]
     },
     "execution_count": 281,
     "metadata": {},
     "output_type": "execute_result"
    }
   ],
   "source": [
    "df.columns"
   ]
  },
  {
   "cell_type": "markdown",
   "metadata": {},
   "source": [
    "#### Variance Inflation Factor\n",
    "VIF quantifies how much a feature's variance is inflated due to collinearity with other features. A VIF above 5–10 suggests high collinearity, and the feature should be considered for removal."
   ]
  },
  {
   "cell_type": "code",
   "execution_count": 282,
   "metadata": {},
   "outputs": [
    {
     "name": "stdout",
     "output_type": "stream",
     "text": [
      "Dropping 'sg' with VIF: 100.4979434346956\n",
      "Dropping 'hemo' with VIF: 44.05659752808901\n",
      "Final features and VIFs after reduction:\n",
      "    Feature       VIF\n",
      "0  bp_limit  2.064446\n",
      "1        al  2.153475\n",
      "2       ane  1.701939\n",
      "3      rbcc  8.329626\n",
      "4       htn  2.373360\n",
      "5       grf  4.121285\n",
      "6        bu  4.777806\n"
     ]
    }
   ],
   "source": [
    "def calculate_vif(X, threshold=10):\n",
    "    # Loop to drop features with VIF > threshold\n",
    "    while True:\n",
    "        vif_data = pd.DataFrame()\n",
    "        vif_data[\"Feature\"] = X.columns\n",
    "        vif_data[\"VIF\"] = [variance_inflation_factor(X.values, i) for i in range(X.shape[1])]\n",
    "\n",
    "        # Check if all VIFs are below the threshold\n",
    "        max_vif = vif_data[\"VIF\"].max()\n",
    "        if max_vif < threshold:\n",
    "            break\n",
    "\n",
    "        # Drop the feature with the highest VIF\n",
    "        feature_to_drop = vif_data.sort_values(\"VIF\", ascending=False)[\"Feature\"].iloc[0]\n",
    "        print(f\"Dropping '{feature_to_drop}' with VIF: {max_vif}\")\n",
    "        X = X.drop(columns=[feature_to_drop])\n",
    "\n",
    "    return X, vif_data\n",
    "\n",
    "# Apply the function to your features\n",
    "X_reduced, final_vif_data = calculate_vif(X, threshold=10)\n",
    "\n",
    "# Print final VIFs for the reduced feature set\n",
    "print(\"Final features and VIFs after reduction:\")\n",
    "print(final_vif_data)"
   ]
  },
  {
   "cell_type": "markdown",
   "metadata": {},
   "source": [
    "-----> **A VIF > 10 is generally considered high. Results look good"
   ]
  },
  {
   "cell_type": "code",
   "execution_count": 283,
   "metadata": {},
   "outputs": [],
   "source": [
    "def logistic_regression(X, y, show_results=True):\n",
    "    # Split the data into training and testing sets\n",
    "    X_train, X_test, y_train, y_test = train_test_split(X, y, test_size=0.2, random_state=42)\n",
    "\n",
    "    # Initialize and fit the logistic regression model\n",
    "    model = LogisticRegression(max_iter=1000)  # Increase max_iter to ensure convergence\n",
    "    model.fit(X_train, y_train)\n",
    "\n",
    "    # Make predictions on the test set\n",
    "    y_pred = model.predict(X_test)\n",
    "\n",
    "    # Evaluate the model\n",
    "    class_report = classification_report(y_test, y_pred, target_names=[\"No CKD\", \"CKD\"])  # Use output_dict to access specific values\n",
    "\n",
    "    if show_results:\n",
    "        print(class_report)\n",
    "\n",
    "    # Return the trained model and evaluation results\n",
    "    return model, class_report"
   ]
  },
  {
   "cell_type": "code",
   "execution_count": 284,
   "metadata": {},
   "outputs": [
    {
     "name": "stdout",
     "output_type": "stream",
     "text": [
      "              precision    recall  f1-score   support\n",
      "\n",
      "      No CKD       0.94      1.00      0.97        15\n",
      "         CKD       1.00      0.96      0.98        25\n",
      "\n",
      "    accuracy                           0.97        40\n",
      "   macro avg       0.97      0.98      0.97        40\n",
      "weighted avg       0.98      0.97      0.98        40\n",
      "\n"
     ]
    }
   ],
   "source": [
    "# approach 0: Test with all features after VIF reduction\n",
    "X = X_reduced\n",
    "y = df['has_ckd']\n",
    "model =logistic_regression(X, y);\n"
   ]
  },
  {
   "cell_type": "code",
   "execution_count": 285,
   "metadata": {},
   "outputs": [
    {
     "name": "stdout",
     "output_type": "stream",
     "text": [
      "              precision    recall  f1-score   support\n",
      "\n",
      "      No CKD       1.00      0.87      0.93        15\n",
      "         CKD       0.93      1.00      0.96        25\n",
      "\n",
      "    accuracy                           0.95        40\n",
      "   macro avg       0.96      0.93      0.95        40\n",
      "weighted avg       0.95      0.95      0.95        40\n",
      "\n"
     ]
    }
   ],
   "source": [
    "# Approach 1: Use the features from the winning linear regression model\n",
    "X = df[['bp_limit', 'sg', 'al', 'hemo', 'ane', 'grf']]\n",
    "y = df['has_ckd']\n",
    "\n",
    "# variable name added after the fact\n",
    "logistic_regression_winning_model = logistic_regression(X, y); # winning model"
   ]
  },
  {
   "cell_type": "code",
   "execution_count": 286,
   "metadata": {},
   "outputs": [],
   "source": [
    "# Approach 3. \n",
    "# a. Remove one of hemo or rbcc; b. Combine hemo and rbcc into one feature by averaging them\n",
    "\n",
    "# Approach 3a_1: Remove hemo (turns out it was already dropped by VIF)\n",
    "# X = X_reduced.drop(columns=['hemo'])\n",
    "# y = df['has_ckd']\n",
    "# model = logistic_regression(X, y);\n",
    "\n",
    "# The model is too perfect, which is suspicious. There's possible overfitting."
   ]
  },
  {
   "cell_type": "code",
   "execution_count": 287,
   "metadata": {},
   "outputs": [
    {
     "name": "stdout",
     "output_type": "stream",
     "text": [
      "              precision    recall  f1-score   support\n",
      "\n",
      "      No CKD       1.00      0.87      0.93        15\n",
      "         CKD       0.93      1.00      0.96        25\n",
      "\n",
      "    accuracy                           0.95        40\n",
      "   macro avg       0.96      0.93      0.95        40\n",
      "weighted avg       0.95      0.95      0.95        40\n",
      "\n"
     ]
    }
   ],
   "source": [
    "# Approach 3a_2: Remove rbcc (but include hemo)\n",
    "X = df[['hemo'] + X_reduced.columns.tolist()].drop(columns=['rbcc'])\n",
    "y = df['has_ckd']\n",
    "model = logistic_regression(X, y);"
   ]
  },
  {
   "cell_type": "code",
   "execution_count": 288,
   "metadata": {},
   "outputs": [
    {
     "data": {
      "text/plain": [
       "Index(['bp_limit', 'al', 'ane', 'rbcc', 'htn', 'grf', 'bu'], dtype='object')"
      ]
     },
     "execution_count": 288,
     "metadata": {},
     "output_type": "execute_result"
    }
   ],
   "source": [
    "X_reduced.columns"
   ]
  },
  {
   "cell_type": "code",
   "execution_count": 289,
   "metadata": {},
   "outputs": [
    {
     "name": "stdout",
     "output_type": "stream",
     "text": [
      "              precision    recall  f1-score   support\n",
      "\n",
      "      No CKD       1.00      0.93      0.97        15\n",
      "         CKD       0.96      1.00      0.98        25\n",
      "\n",
      "    accuracy                           0.97        40\n",
      "   macro avg       0.98      0.97      0.97        40\n",
      "weighted avg       0.98      0.97      0.97        40\n",
      "\n"
     ]
    }
   ],
   "source": [
    "# Approach 3b\n",
    "df['hemo_rbcc'] = (df['hemo'] + df['rbcc']) / 2\n",
    "X = df[['bp_limit', 'al', 'ane', 'hemo_rbcc', 'htn', 'grf', 'bu']] # combined hemo and rbcc\n",
    "y = df['has_ckd']\n",
    "logistic_regression_model_2 = logistic_regression(X, y);"
   ]
  },
  {
   "cell_type": "code",
   "execution_count": null,
   "metadata": {},
   "outputs": [],
   "source": [
    "logistic_regression_winning_model = "
   ]
  },
  {
   "cell_type": "markdown",
   "metadata": {},
   "source": [
    "#### Conclusion\n",
    "Using the features obtained after performing VIF yielded best results. Although, combining hemo + rbcc performed almost equal"
   ]
  },
  {
   "cell_type": "markdown",
   "metadata": {},
   "source": [
    "### Comparing results of Logistic Regression with Linear Regression"
   ]
  },
  {
   "cell_type": "code",
   "execution_count": 74,
   "metadata": {},
   "outputs": [
    {
     "name": "stdout",
     "output_type": "stream",
     "text": [
      "--- Linear model 2 ---\n",
      "r2: \u001b[32m0.6953\u001b[0m\n",
      "mse: \u001b[32m0.0714\u001b[0m\n",
      "intercept: \u001b[33m2.2116\u001b[0m\n",
      "hemo: \u001b[33m-0.0899\u001b[0m\n",
      "rbcc: \u001b[33m-0.0916\u001b[0m\n",
      "htn: \u001b[33m0.172\u001b[0m\n",
      "grf: \u001b[33m-0.0014\u001b[0m\n",
      "\n",
      "--- Logistic model 2---\n",
      "accuracy: \u001b[32m0.975\u001b[0m\n",
      "precision: \u001b[32m0.9615\u001b[0m\n",
      "recall: \u001b[32m1.0\u001b[0m\n",
      "f1_score: \u001b[32m0.9804\u001b[0m\n",
      "intercept: \u001b[33m19.936\u001b[0m\n",
      "hemo_rbcc: \u001b[33m-2.2895\u001b[0m\n",
      "htn: \u001b[33m1.6565\u001b[0m\n",
      "grf: \u001b[33m-0.006\u001b[0m\n",
      "bu: \u001b[33m0.027\u001b[0m\n"
     ]
    }
   ],
   "source": [
    "# The winning Linear Regression model is in the r2 variable\n",
    "print(\"--- Linear model 2 ---\")\n",
    "pretty_print_dict(r2, accentKeys=['r2', 'mse'])\n",
    "print(\"\\n--- Logistic model 2---\")\n",
    "pretty_print_dict(results_2, accentKeys=['accuracy', 'precision', 'recall', 'f1_score'])\n"
   ]
  },
  {
   "cell_type": "code",
   "execution_count": 75,
   "metadata": {},
   "outputs": [
    {
     "data": {
      "text/html": [
       "<div>\n",
       "<style scoped>\n",
       "    .dataframe tbody tr th:only-of-type {\n",
       "        vertical-align: middle;\n",
       "    }\n",
       "\n",
       "    .dataframe tbody tr th {\n",
       "        vertical-align: top;\n",
       "    }\n",
       "\n",
       "    .dataframe thead th {\n",
       "        text-align: right;\n",
       "    }\n",
       "</style>\n",
       "<table border=\"1\" class=\"dataframe\">\n",
       "  <thead>\n",
       "    <tr style=\"text-align: right;\">\n",
       "      <th></th>\n",
       "      <th>bp_diastolic</th>\n",
       "      <th>bp_limit</th>\n",
       "      <th>sg</th>\n",
       "      <th>al</th>\n",
       "      <th>has_ckd</th>\n",
       "      <th>rbc</th>\n",
       "      <th>su</th>\n",
       "      <th>pc</th>\n",
       "      <th>pcc</th>\n",
       "      <th>ba</th>\n",
       "      <th>...</th>\n",
       "      <th>dm</th>\n",
       "      <th>cad</th>\n",
       "      <th>appet</th>\n",
       "      <th>pe</th>\n",
       "      <th>ane</th>\n",
       "      <th>grf</th>\n",
       "      <th>stage</th>\n",
       "      <th>affected</th>\n",
       "      <th>age</th>\n",
       "      <th>hemo_rbcc</th>\n",
       "    </tr>\n",
       "  </thead>\n",
       "  <tbody>\n",
       "    <tr>\n",
       "      <th>0</th>\n",
       "      <td>0</td>\n",
       "      <td>0</td>\n",
       "      <td>1.020</td>\n",
       "      <td>1.0</td>\n",
       "      <td>1</td>\n",
       "      <td>0</td>\n",
       "      <td>0.0</td>\n",
       "      <td>0</td>\n",
       "      <td>0</td>\n",
       "      <td>0</td>\n",
       "      <td>...</td>\n",
       "      <td>0</td>\n",
       "      <td>0</td>\n",
       "      <td>0.0</td>\n",
       "      <td>0.0</td>\n",
       "      <td>0.0</td>\n",
       "      <td>227.9440</td>\n",
       "      <td>1</td>\n",
       "      <td>1.0</td>\n",
       "      <td>12.0</td>\n",
       "      <td>8.3525</td>\n",
       "    </tr>\n",
       "    <tr>\n",
       "      <th>1</th>\n",
       "      <td>0</td>\n",
       "      <td>0</td>\n",
       "      <td>1.010</td>\n",
       "      <td>0.0</td>\n",
       "      <td>1</td>\n",
       "      <td>0</td>\n",
       "      <td>0.0</td>\n",
       "      <td>0</td>\n",
       "      <td>0</td>\n",
       "      <td>0</td>\n",
       "      <td>...</td>\n",
       "      <td>0</td>\n",
       "      <td>0</td>\n",
       "      <td>0.0</td>\n",
       "      <td>0.0</td>\n",
       "      <td>0.0</td>\n",
       "      <td>227.9440</td>\n",
       "      <td>1</td>\n",
       "      <td>1.0</td>\n",
       "      <td>12.0</td>\n",
       "      <td>8.3525</td>\n",
       "    </tr>\n",
       "    <tr>\n",
       "      <th>2</th>\n",
       "      <td>0</td>\n",
       "      <td>0</td>\n",
       "      <td>1.010</td>\n",
       "      <td>4.0</td>\n",
       "      <td>1</td>\n",
       "      <td>1</td>\n",
       "      <td>0.0</td>\n",
       "      <td>1</td>\n",
       "      <td>0</td>\n",
       "      <td>1</td>\n",
       "      <td>...</td>\n",
       "      <td>0</td>\n",
       "      <td>0</td>\n",
       "      <td>1.0</td>\n",
       "      <td>0.0</td>\n",
       "      <td>0.0</td>\n",
       "      <td>139.8635</td>\n",
       "      <td>1</td>\n",
       "      <td>1.0</td>\n",
       "      <td>12.0</td>\n",
       "      <td>7.0525</td>\n",
       "    </tr>\n",
       "    <tr>\n",
       "      <th>3</th>\n",
       "      <td>1</td>\n",
       "      <td>1</td>\n",
       "      <td>1.010</td>\n",
       "      <td>3.0</td>\n",
       "      <td>1</td>\n",
       "      <td>0</td>\n",
       "      <td>0.0</td>\n",
       "      <td>0</td>\n",
       "      <td>0</td>\n",
       "      <td>0</td>\n",
       "      <td>...</td>\n",
       "      <td>0</td>\n",
       "      <td>0</td>\n",
       "      <td>0.0</td>\n",
       "      <td>0.0</td>\n",
       "      <td>0.0</td>\n",
       "      <td>139.8635</td>\n",
       "      <td>1</td>\n",
       "      <td>1.0</td>\n",
       "      <td>12.0</td>\n",
       "      <td>9.6525</td>\n",
       "    </tr>\n",
       "    <tr>\n",
       "      <th>4</th>\n",
       "      <td>0</td>\n",
       "      <td>0</td>\n",
       "      <td>1.016</td>\n",
       "      <td>0.0</td>\n",
       "      <td>1</td>\n",
       "      <td>0</td>\n",
       "      <td>0.0</td>\n",
       "      <td>0</td>\n",
       "      <td>0</td>\n",
       "      <td>0</td>\n",
       "      <td>...</td>\n",
       "      <td>1</td>\n",
       "      <td>0</td>\n",
       "      <td>1.0</td>\n",
       "      <td>1.0</td>\n",
       "      <td>0.0</td>\n",
       "      <td>139.8635</td>\n",
       "      <td>1</td>\n",
       "      <td>1.0</td>\n",
       "      <td>16.0</td>\n",
       "      <td>9.9475</td>\n",
       "    </tr>\n",
       "  </tbody>\n",
       "</table>\n",
       "<p>5 rows × 30 columns</p>\n",
       "</div>"
      ],
      "text/plain": [
       "   bp_diastolic  bp_limit     sg   al  has_ckd  rbc   su  pc  pcc  ba  ...  \\\n",
       "0             0         0  1.020  1.0        1    0  0.0   0    0   0  ...   \n",
       "1             0         0  1.010  0.0        1    0  0.0   0    0   0  ...   \n",
       "2             0         0  1.010  4.0        1    1  0.0   1    0   1  ...   \n",
       "3             1         1  1.010  3.0        1    0  0.0   0    0   0  ...   \n",
       "4             0         0  1.016  0.0        1    0  0.0   0    0   0  ...   \n",
       "\n",
       "   dm  cad  appet   pe  ane       grf  stage  affected   age  hemo_rbcc  \n",
       "0   0    0    0.0  0.0  0.0  227.9440      1       1.0  12.0     8.3525  \n",
       "1   0    0    0.0  0.0  0.0  227.9440      1       1.0  12.0     8.3525  \n",
       "2   0    0    1.0  0.0  0.0  139.8635      1       1.0  12.0     7.0525  \n",
       "3   0    0    0.0  0.0  0.0  139.8635      1       1.0  12.0     9.6525  \n",
       "4   1    0    1.0  1.0  0.0  139.8635      1       1.0  16.0     9.9475  \n",
       "\n",
       "[5 rows x 30 columns]"
      ]
     },
     "execution_count": 75,
     "metadata": {},
     "output_type": "execute_result"
    }
   ],
   "source": []
  },
  {
   "cell_type": "code",
   "execution_count": 83,
   "metadata": {},
   "outputs": [
    {
     "name": "stdout",
     "output_type": "stream",
     "text": [
      "\n",
      "Comparison Summary:\n",
      "Logistic:                   : {'accuracy': 0.975, 'precision': 0.9615384615384616, 'recall': 1.0, 'f1_score': 0.9803921568627451}\n",
      "Linear (w/ binary threshold): {'accuracy': 0.975, 'precision': 0.9615384615384616, 'recall': 1.0, 'f1_score': 0.9803921568627451}\n"
     ]
    }
   ],
   "source": [
    "# compare linear and logistic regression models performance\n",
    "X_logistic = df[['hemo_rbcc', 'htn', 'grf', 'bu']]  # For logistic regression\n",
    "X_linear = df[['hemo', 'rbcc', 'htn', 'grf']]       # For linear regression\n",
    "y = df['has_ckd']  # Binary target variable\n",
    "\n",
    "# Split the data for training and testing\n",
    "X_log_train, X_log_test, y_train, y_test = train_test_split(X_logistic, y, test_size=0.2, random_state=42)\n",
    "X_lin_train, X_lin_test, _, _ = train_test_split(X_linear, y, test_size=0.2, random_state=42)\n",
    "\n",
    "# Step 2: Fit the Logistic Regression Model\n",
    "logistic_model = LogisticRegression(max_iter=1000)\n",
    "logistic_model.fit(X_log_train, y_train)\n",
    "logistic_y_pred = logistic_model.predict(X_log_test)\n",
    "\n",
    "# Step 3: Fit the Linear Regression Model and Convert Predictions to Binary\n",
    "linear_model = LinearRegression()\n",
    "linear_model.fit(X_lin_train, y_train)\n",
    "linear_y_pred_continuous = linear_model.predict(X_lin_test)\n",
    "linear_y_pred_binary = (linear_y_pred_continuous >= 0.5).astype(int)  # Apply a threshold of 0.5 for binary classification\n",
    "\n",
    "# Step 4: Evaluate Both Models\n",
    "# Logistic Regression Metrics\n",
    "logistic_accuracy = accuracy_score(y_test, logistic_y_pred)\n",
    "logistic_precision = precision_score(y_test, logistic_y_pred)\n",
    "logistic_recall = recall_score(y_test, logistic_y_pred)\n",
    "logistic_f1 = f1_score(y_test, logistic_y_pred)\n",
    "\n",
    "# Linear Regression Metrics (after thresholding predictions)\n",
    "linear_accuracy = accuracy_score(y_test, linear_y_pred_binary)\n",
    "linear_precision = precision_score(y_test, linear_y_pred_binary)\n",
    "linear_recall = recall_score(y_test, linear_y_pred_binary)\n",
    "linear_f1 = f1_score(y_test, linear_y_pred_binary)\n",
    "\n",
    "# Final Summary\n",
    "print(\"\\nComparison Summary:\")\n",
    "print(\"Logistic:                   :\", {\"accuracy\": logistic_accuracy, \"precision\": logistic_precision, \n",
    "                               \"recall\": logistic_recall, \"f1_score\": logistic_f1})\n",
    "print(\"Linear (w/ binary threshold):\", {\"accuracy\": linear_accuracy, \"precision\": linear_precision, \n",
    "                                                \"recall\": linear_recall, \"f1_score\": linear_f1})"
   ]
  },
  {
   "cell_type": "markdown",
   "metadata": {},
   "source": [
    "It is interesting that both models have the same accuracy, precision, recall, and F1-score.\n",
    "Maybe we shouldn't include this in our final report as it is an unusual result.\n",
    "\n",
    "The chosen threshold (0.5) for the linear regression model might align well with the logistic model’s decision boundary, leading to similar predictions. Changing this threshold could reveal more differences, though 0.5 is typically a reasonable choice.\n"
   ]
  }
 ],
 "metadata": {
  "kernelspec": {
   "display_name": "my_ds_course_env",
   "language": "python",
   "name": "python3"
  },
  "language_info": {
   "codemirror_mode": {
    "name": "ipython",
    "version": 3
   },
   "file_extension": ".py",
   "mimetype": "text/x-python",
   "name": "python",
   "nbconvert_exporter": "python",
   "pygments_lexer": "ipython3",
   "version": "3.10.14"
  }
 },
 "nbformat": 4,
 "nbformat_minor": 2
}
